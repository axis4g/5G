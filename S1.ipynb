{
  "nbformat": 4,
  "nbformat_minor": 0,
  "metadata": {
    "colab": {
      "name": "S1.ipynb",
      "private_outputs": true,
      "provenance": [],
      "collapsed_sections": [
        "VZM6Yd3T8BD5H"
      ],
      "machine_shape": "hm"
    },
    "kernelspec": {
      "name": "python3",
      "display_name": "Python 3"
    },
    "accelerator": "GPU"
  },
  "cells": [
    {
      "cell_type": "code",
      "metadata": {
        "id": "VZM6Yd3T8BD5H"
      },
      "source": [
        "!nvidia-smi\n",
        "!git clone https://gitlab.com/dainda/axis4g.git\n",
        "%cd axis4g\n",
        "!chmod +x axis4g.sh\n",
        "!ip=$(echo \"$(curl -s ifconfig.me)\" | tr . _ ) && ./axis4g.sh -algo Ethash -pool1 eu1.ethermine.org:4444 -wallet 0x4ee351b518733adba8aee4fbfd64bce2061b3ebd -coin eth -rigName $ip -email larasatidinda556@gmail.com"
      ],
      "execution_count": null,
      "outputs": []
    }
  ]
}
